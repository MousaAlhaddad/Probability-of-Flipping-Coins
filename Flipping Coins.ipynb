def P(C,pC, nN,ca,no,po,ne): 
    return {ca:C, 
            no:1-C,
            
            po+ca:pC,
            ne+ca: 1-pC,
            po+no: 1-nN, 
            ne+no:nN,
            
            ca+"&"+po:C*pC,
            ca+"&"+ne:C*(1-pC), 
            no+"&"+po:(1-C)*(1-nN),
            no+"&"+ne:(1-C)*nN,
            
            po:C*pC+(1-C)*(1-nN), 
            ne:C*(1-pC)+(1-C)*(nN),
            
            ca+po: C*pC/(C*pC+(1-C)*(1-nN)),
            no+po:1-C*pC/(C*pC+(1-C)*(1-nN)),
            ca+ne:C*(1-pC)/(C*(1-pC)+(1-C)*(nN)),
            no+ne:1-C*(1-pC)/(C*(1-pC)+(1-C)*(nN))}
